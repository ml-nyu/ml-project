{
 "cells": [
  {
   "cell_type": "code",
   "execution_count": 1,
   "metadata": {
    "collapsed": false
   },
   "outputs": [],
   "source": [
    "import json\n",
    "import re\n",
    "import random\n",
    "from pandas import DataFrame\n",
    "from sklearn.feature_extraction.text import CountVectorizer\n",
    "\n",
    "rows = []\n",
    "def filter_tweets(tweets, classification):\n",
    "    for tweet in tweets:\n",
    "        currenttext = ' '.join(re.sub(\"(@[A-Za-z0-9]+)|([^0-9A-Za-z \\t])|(\\w+:\\/\\/\\S+)\", \" \", tweet['text']).split())\n",
    "        #currenttext = tweet['text']\n",
    "        rows.append({'text': currenttext, 'class': classification})\n",
    "    \n",
    "\n",
    "with open('allbottweets.json') as data_file:\n",
    "    filter_tweets(json.load(data_file), 1)\n",
    "    \n",
    "with open('allnonbottweets.json') as data_file:\n",
    "    filter_tweets(json.load(data_file), 0)\n",
    "\n",
    "random.shuffle(rows)\n",
    "data = DataFrame(rows)"
   ]
  },
  {
   "cell_type": "code",
   "execution_count": 2,
   "metadata": {
    "collapsed": false
   },
   "outputs": [
    {
     "data": {
      "text/plain": [
       "0.73999999999999999"
      ]
     },
     "execution_count": 2,
     "metadata": {},
     "output_type": "execute_result"
    }
   ],
   "source": [
    "#BERNOULLI\n",
    "\n",
    "import numpy as np\n",
    "from sklearn.naive_bayes import BernoulliNB\n",
    "from sklearn.feature_extraction.text import TfidfTransformer\n",
    "from sklearn.feature_extraction.text import CountVectorizer\n",
    "from sklearn.model_selection import train_test_split\n",
    "targets = data['class']\n",
    "\n",
    "Data_train, Data_test, target_train, target_test = train_test_split(data['text'], targets, test_size=0.2, random_state=0)\n",
    "\n",
    "from sklearn.pipeline import Pipeline\n",
    "text_clf_mb = Pipeline([('vect', CountVectorizer()),('tfidf', TfidfTransformer()),('clf', BernoulliNB()),])\n",
    "clf_mb = text_clf_mb.fit(Data_train, target_train)\n",
    "\n",
    "predicted_mb = clf_mb.predict(Data_test)\n",
    "np.mean(predicted_mb == target_test)"
   ]
  },
  {
   "cell_type": "code",
   "execution_count": 3,
   "metadata": {
    "collapsed": false
   },
   "outputs": [
    {
     "name": "stdout",
     "output_type": "stream",
     "text": [
      "             precision    recall  f1-score   support\n",
      "\n",
      "        bot       0.85      0.62      0.72        53\n",
      "     nonbot       0.67      0.87      0.76        47\n",
      "\n",
      "avg / total       0.76      0.74      0.74       100\n",
      "\n",
      "[ 0.          0.37735849  1.        ]\n",
      "[ 0.          0.87234043  1.        ]\n",
      "0.747490967483\n"
     ]
    }
   ],
   "source": [
    "#Precision, recall and F1\n",
    "from sklearn.metrics import classification_report\n",
    "target_names = ['bot', 'nonbot']\n",
    "print(classification_report(target_test, predicted_mb, target_names=target_names))\n",
    "\n",
    "#AUC \n",
    "from sklearn import metrics\n",
    "fpr, tpr, thresholds = metrics.roc_curve(target_test, predicted_mb, pos_label=1)\n",
    "print(fpr)\n",
    "print(tpr)\n",
    "print(metrics.auc(fpr, tpr))"
   ]
  },
  {
   "cell_type": "code",
   "execution_count": 4,
   "metadata": {
    "collapsed": false
   },
   "outputs": [
    {
     "data": {
      "text/plain": [
       "0.76000000000000001"
      ]
     },
     "execution_count": 4,
     "metadata": {},
     "output_type": "execute_result"
    }
   ],
   "source": [
    "#MULTINOMIAL\n",
    "\n",
    "import numpy as np\n",
    "from sklearn.naive_bayes import MultinomialNB\n",
    "from sklearn.feature_extraction.text import TfidfTransformer\n",
    "from sklearn.feature_extraction.text import CountVectorizer\n",
    "from sklearn.model_selection import train_test_split\n",
    "targets = data['class']\n",
    "\n",
    "Data_train, Data_test, target_train, target_test = train_test_split(data['text'], targets, test_size=0.2, random_state=0)\n",
    "\n",
    "from sklearn.pipeline import Pipeline\n",
    "text_clf_mb = Pipeline([('vect', CountVectorizer()),('tfidf', TfidfTransformer()),('clf', MultinomialNB()),])\n",
    "clf_mb = text_clf_mb.fit(Data_train, target_train)\n",
    "\n",
    "predicted_mb = clf_mb.predict(Data_test)\n",
    "np.mean(predicted_mb == target_test)"
   ]
  },
  {
   "cell_type": "code",
   "execution_count": 5,
   "metadata": {
    "collapsed": false
   },
   "outputs": [
    {
     "name": "stdout",
     "output_type": "stream",
     "text": [
      "             precision    recall  f1-score   support\n",
      "\n",
      "        bot       0.75      0.83      0.79        53\n",
      "     nonbot       0.78      0.68      0.73        47\n",
      "\n",
      "avg / total       0.76      0.76      0.76       100\n",
      "\n",
      "[ 0.          0.16981132  1.        ]\n",
      "[ 0.          0.68085106  1.        ]\n",
      "0.755519871538\n"
     ]
    }
   ],
   "source": [
    "#Precision, recall and F1\n",
    "from sklearn.metrics import classification_report\n",
    "target_names = ['bot', 'nonbot']\n",
    "print(classification_report(target_test, predicted_mb, target_names=target_names))\n",
    "\n",
    "#AUC \n",
    "from sklearn import metrics\n",
    "fpr, tpr, thresholds = metrics.roc_curve(target_test, predicted_mb, pos_label=1)\n",
    "print(fpr)\n",
    "print(tpr)\n",
    "print(metrics.auc(fpr, tpr))"
   ]
  }
 ],
 "metadata": {
  "kernelspec": {
   "display_name": "Python 3",
   "language": "python",
   "name": "python3"
  },
  "language_info": {
   "codemirror_mode": {
    "name": "ipython",
    "version": 3
   },
   "file_extension": ".py",
   "mimetype": "text/x-python",
   "name": "python",
   "nbconvert_exporter": "python",
   "pygments_lexer": "ipython3",
   "version": "3.6.0"
  }
 },
 "nbformat": 4,
 "nbformat_minor": 2
}
