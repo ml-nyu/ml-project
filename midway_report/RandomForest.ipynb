{
 "cells": [
  {
   "cell_type": "code",
   "execution_count": 65,
   "metadata": {
    "collapsed": false
   },
   "outputs": [],
   "source": [
    "import json\n",
    "import random\n",
    "\n",
    "rows = []    \n",
    "with open('botslookup.json') as data_file:\n",
    "    bots = json.load(data_file)\n",
    "    for bot in bots:\n",
    "        rows.append(bot)\n",
    "\n",
    "    \n",
    "with open('nonbotslookup.json') as data_file:\n",
    "    nonbots = json.load(data_file)\n",
    "    for nonbot in nonbots:\n",
    "        rows.append(nonbot)\n",
    "\n",
    "realtests = []\n",
    "with open('randomtests.json') as data_file:\n",
    "    randomdata = json.load(data_file)\n",
    "    for record in randomdata:\n",
    "        realtests.append(record)\n",
    "\n",
    "random.shuffle(rows)\n",
    "random.shuffle(realtests)"
   ]
  },
  {
   "cell_type": "code",
   "execution_count": 66,
   "metadata": {
    "collapsed": false,
    "scrolled": false
   },
   "outputs": [],
   "source": [
    "from pandas import DataFrame\n",
    "from sklearn import model_selection\n",
    "from sklearn.ensemble import RandomForestClassifier\n",
    "from sklearn.model_selection import train_test_split\n",
    "import numpy as np\n",
    "column_headers = ['default_profile', 'favourites_count', 'followers_count', 'friends_count', 'statuses_count', 'verified', 'retweet_count', 'class']\n",
    "dataframe = DataFrame(np.array(rows), columns= column_headers)\n",
    "array = dataframe.values\n",
    "X = array[:,0:7]\n",
    "Y = array[:,7]\n",
    "data_train, data_test, target_train, target_test = train_test_split(X, Y, test_size=0.2, random_state=0)\n",
    "num_trees = 100\n",
    "max_features = 7\n",
    "model = RandomForestClassifier(n_estimators=num_trees, max_features=max_features)\n",
    "#Fit the training set\n",
    "model.fit(data_train, target_train)\n",
    "\n",
    "predicted_rf = model.predict(data_test)"
   ]
  },
  {
   "cell_type": "code",
   "execution_count": 67,
   "metadata": {
    "collapsed": false
   },
   "outputs": [
    {
     "name": "stdout",
     "output_type": "stream",
     "text": [
      "             precision    recall  f1-score   support\n",
      "\n",
      "        bot       1.00      1.00      1.00        10\n",
      "     nonbot       1.00      1.00      1.00        10\n",
      "\n",
      "avg / total       1.00      1.00      1.00        20\n",
      "\n",
      "1.0\n"
     ]
    }
   ],
   "source": [
    "#Precision, recall and F1\n",
    "from sklearn.metrics import classification_report\n",
    "target_names = ['bot', 'nonbot']\n",
    "print(classification_report(target_test, predicted_rf, target_names=target_names))\n",
    "\n",
    "#AUC \n",
    "from sklearn import metrics\n",
    "fpr, tpr, thresholds = metrics.roc_curve(target_test, predicted_rf, pos_label=1)\n",
    "print(metrics.auc(fpr, tpr))"
   ]
  },
  {
   "cell_type": "code",
   "execution_count": 73,
   "metadata": {
    "collapsed": false
   },
   "outputs": [
    {
     "data": {
      "text/plain": [
       "0.73333333333333328"
      ]
     },
     "execution_count": 73,
     "metadata": {},
     "output_type": "execute_result"
    }
   ],
   "source": [
    "realtestdataframe = DataFrame(np.array(realtests), columns=column_headers)\n",
    "realarray = realtestdataframe.values\n",
    "\n",
    "predicted_rf_real = model.predict(realarray[:,0:7])\n",
    "np.mean(predicted_rf_real == realarray[:,7])"
   ]
  },
  {
   "cell_type": "code",
   "execution_count": 75,
   "metadata": {
    "collapsed": false
   },
   "outputs": [
    {
     "name": "stdout",
     "output_type": "stream",
     "text": [
      "             precision    recall  f1-score   support\n",
      "\n",
      "        bot       1.00      0.60      0.75        10\n",
      "     nonbot       0.56      1.00      0.71         5\n",
      "\n",
      "avg / total       0.85      0.73      0.74        15\n",
      "\n",
      "[ 0.  1.  1.]\n",
      "[ 0.   0.4  1. ]\n",
      "0.8\n"
     ]
    }
   ],
   "source": [
    "#Precision, recall and F1\n",
    "from sklearn.metrics import classification_report\n",
    "target_names = ['bot', 'nonbot']\n",
    "print(classification_report(realarray[:,7], predicted_rf_real, target_names=target_names))\n",
    "\n",
    "#AUC \n",
    "from sklearn import metrics\n",
    "fpr, tpr, thresholds = metrics.roc_curve(realarray[:,7], predicted_rf_real, pos_label=1)\n",
    "print(tpr)\n",
    "print(fpr)\n",
    "print(metrics.auc(fpr, tpr))"
   ]
  }
 ],
 "metadata": {
  "kernelspec": {
   "display_name": "Python 3",
   "language": "python",
   "name": "python3"
  },
  "language_info": {
   "codemirror_mode": {
    "name": "ipython",
    "version": 3
   },
   "file_extension": ".py",
   "mimetype": "text/x-python",
   "name": "python",
   "nbconvert_exporter": "python",
   "pygments_lexer": "ipython3",
   "version": "3.6.0"
  }
 },
 "nbformat": 4,
 "nbformat_minor": 2
}
