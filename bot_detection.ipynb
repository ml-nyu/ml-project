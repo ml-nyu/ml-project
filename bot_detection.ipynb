{
 "cells": [
  {
   "cell_type": "markdown",
   "metadata": {},
   "source": [
    "                Twitter Bot Detection using Random Forest and Naive Bayes classifier\n",
    "             Project By : Girish Ganesh Prabhu (rrk310) and Rahul Ramesh Kumar (rrk310)\n"
   ]
  },
  {
   "cell_type": "code",
   "execution_count": 33,
   "metadata": {
    "collapsed": false
   },
   "outputs": [],
   "source": [
    "#Open Training File\n",
    "import json\n",
    "arr = []\n",
    "\n",
    "with open('training/twitter_features_training.json') as data_file:\n",
    "    randomdata = json.load(data_file)\n",
    "    arr = randomdata['k']\n",
    "rows = arr"
   ]
  },
  {
   "cell_type": "markdown",
   "metadata": {},
   "source": [
    "                        Clean data and extract new features"
   ]
  },
  {
   "cell_type": "code",
   "execution_count": 34,
   "metadata": {
    "collapsed": false,
    "scrolled": true
   },
   "outputs": [
    {
     "name": "stdout",
     "output_type": "stream",
     "text": [
      "      favourites  followers  friends  verified  desc  totaltweets  \\\n",
      "2623           1         94       52         0     0         2510   \n",
      "2525           0     334177      845         1     0        19375   \n",
      "2781        2972      64170      667         1     0          126   \n",
      "2757        3416   93576687   302737         1     0        30637   \n",
      "1968         394       5309      294         0     0         6669   \n",
      "\n",
      "      in_reply_to_status_id  is_quote_status  listed_count  bot  \n",
      "2623                     31                0             0    0  \n",
      "2525                     20               69          1975    0  \n",
      "2781                      8                1           692    0  \n",
      "2757                      1               22        619031    0  \n",
      "1968                     40                1            81    0  \n"
     ]
    }
   ],
   "source": [
    "import json\n",
    "import random\n",
    "import pandas as pd\n",
    "import numpy as np\n",
    "import re\n",
    "from __future__ import division\n",
    "import collections\n",
    "\n",
    "hint = 'bot'\n",
    "\n",
    "#removed columns friends and isPeriodic since they are making it worse\n",
    "\n",
    "column_headers = [ 'favourites' , 'default_profile',  \\\n",
    "                  'followers' , 'friends'  , \\\n",
    "                  'verified' ,\\\n",
    "                  'default_profile_image' , 'name_hint' ,  \\\n",
    "                  'name' , 'screenname' , 'description' , \\\n",
    "                  'has_extended_profile', 'location' ,'desc' ,  \\\n",
    "                  'totaltweets', 'loc', 'in_reply_to_status_id', \\\n",
    "                  'socialness', 'is_quote_status' , 'diversity' , \\\n",
    "                  'listed_count' , 'avgurls', 'avghashtags' ,'bot' ]\n",
    "\n",
    "index = collections.OrderedDict()\n",
    "\n",
    "#Fill a map with header to index\n",
    "for i in range(0,len(column_headers)):\n",
    "    index[column_headers[i]] = i\n",
    "\n",
    "# get hint from name\n",
    "def get_name_hint(s):\n",
    "    if s is 0 :\n",
    "        return 0\n",
    "    return 1 if hint in s.lower().split() else 0\n",
    "\n",
    "# get the diversity of characters\n",
    "def lexical_diversity(text):\n",
    "    diversity = 0\n",
    "    if len(text) == 0:\n",
    "        diversity =0\n",
    "    else:\n",
    "        diversity  = float(len(set(text))) / len(text)\n",
    "    return round(diversity,2)\n",
    "\n",
    "#calculates the lexical diversity for a user\n",
    "def return_diversity(v):\n",
    "    tot_div =0\n",
    "    sz =0\n",
    "    for key,value in v.items():\n",
    "        if key == 'tweets':\n",
    "            sz = sz+1\n",
    "            for tweet in value:\n",
    "                tw = ' '.join(re.sub(\"(@[A-Za-z0-9]+)|([^0-9A-Za-z \\t])|(\\w+:\\/\\/\\S+)\",\" \",tweet).split())\n",
    "                tot_div = tot_div + lexical_diversity(tw)\n",
    "    \n",
    "    if(sz != 0) :\n",
    "        tot_div = tot_div/sz\n",
    "    return tot_div\n",
    "\n",
    "def get_diversity(row, v):\n",
    "    row[index['diversity']] = return_diversity(v)\n",
    "\n",
    "def get_desc_val(s):\n",
    "    if s is 0:\n",
    "        return 0\n",
    "    if hint in s.lower():\n",
    "        return 1\n",
    "    return 0\n",
    "\n",
    "def name_heuristic(name,desc):\n",
    "    return name or desc\n",
    "\n",
    "def digitize_loc(loc):\n",
    "    if loc is 0:\n",
    "        return 0\n",
    "    if len(loc.strip()) >0 :\n",
    "        return 1\n",
    "    return 0\n",
    "\n",
    "#need to trim after getting all the derived features\n",
    "def trim_frame(df):\n",
    "    del df['description']\n",
    "    del df['name']\n",
    "    del df['screenname']\n",
    "    del df['location']\n",
    "    del df['default_profile_image']\n",
    "    del df['default_profile']\n",
    "    del df['has_extended_profile']\n",
    "    del df['avghashtags']\n",
    "    del df['avgurls'] \n",
    "    del df['name_hint']\n",
    "    del df['loc']\n",
    "    #del df['followers']\n",
    "    del df['socialness']\n",
    "    #del df['is_quote_status']\n",
    "    del df['diversity']\n",
    "    \n",
    "finalrow = []\n",
    "\n",
    "def prep(df):\n",
    "    df['default_profile_image'].fillna(0)\n",
    "    df['description'].fillna('Empty Description')\n",
    "    pd.isnull(df.location).astype(int)\n",
    "    trim_frame(df)\n",
    "    \n",
    "def print_full(x):\n",
    "    pd.set_option('display.max_rows', len(x))\n",
    "    print(x)\n",
    "    pd.reset_option('display.max_rows')\n",
    "    \n",
    "#append rows to dataframe\n",
    "def append_rows_to_list(v):\n",
    "    row = [0]*len(column_headers)\n",
    "    #get_diversity(row,v)\n",
    "    \n",
    "    for key,value in v.items():\n",
    "        if key in index:\n",
    "            if key == 'name' or key == 'screenname':                \n",
    "                row[index['name_hint']] = get_name_hint(value) or row[index['name_hint']]\n",
    "            else :\n",
    "                row[index[key]] = value\n",
    "    \n",
    "    #row[index['name_hint']] = name_heuristic(row[index['name']], row[index['screenname']])\n",
    "    row[index['desc']] = get_desc_val(row[index['description']])\n",
    "    row[index['loc']] = digitize_loc(row[index['location']])\n",
    "    \n",
    "    return row\n",
    "\n",
    "for k,v in rows[0].items():\n",
    "    r = append_rows_to_list(v)\n",
    "    if r is not None:\n",
    "        finalrow.append(r)\n",
    "        \n",
    "df1 = pd.DataFrame(finalrow,columns=column_headers)\n",
    "df1 = df1.sample(frac=1) #randomize\n",
    "prep(df1)# todo call for test as well\n",
    "print(df1.head(5))"
   ]
  },
  {
   "cell_type": "markdown",
   "metadata": {},
   "source": [
    "                             Open Test File and create dataframe"
   ]
  },
  {
   "cell_type": "code",
   "execution_count": 35,
   "metadata": {
    "collapsed": false
   },
   "outputs": [
    {
     "data": {
      "text/html": [
       "<div>\n",
       "<table border=\"1\" class=\"dataframe\">\n",
       "  <thead>\n",
       "    <tr style=\"text-align: right;\">\n",
       "      <th></th>\n",
       "      <th>favourites</th>\n",
       "      <th>followers</th>\n",
       "      <th>friends</th>\n",
       "      <th>verified</th>\n",
       "      <th>desc</th>\n",
       "      <th>totaltweets</th>\n",
       "      <th>in_reply_to_status_id</th>\n",
       "      <th>is_quote_status</th>\n",
       "      <th>listed_count</th>\n",
       "      <th>bot</th>\n",
       "    </tr>\n",
       "  </thead>\n",
       "  <tbody>\n",
       "    <tr>\n",
       "      <th>0</th>\n",
       "      <td>1639</td>\n",
       "      <td>4535</td>\n",
       "      <td>1308</td>\n",
       "      <td>1</td>\n",
       "      <td>0</td>\n",
       "      <td>3061</td>\n",
       "      <td>59</td>\n",
       "      <td>23</td>\n",
       "      <td>111</td>\n",
       "      <td>NaN</td>\n",
       "    </tr>\n",
       "    <tr>\n",
       "      <th>1</th>\n",
       "      <td>304</td>\n",
       "      <td>298</td>\n",
       "      <td>780</td>\n",
       "      <td>0</td>\n",
       "      <td>0</td>\n",
       "      <td>629</td>\n",
       "      <td>3</td>\n",
       "      <td>6</td>\n",
       "      <td>10</td>\n",
       "      <td>NaN</td>\n",
       "    </tr>\n",
       "    <tr>\n",
       "      <th>2</th>\n",
       "      <td>13033</td>\n",
       "      <td>1046703</td>\n",
       "      <td>3018</td>\n",
       "      <td>1</td>\n",
       "      <td>0</td>\n",
       "      <td>3339</td>\n",
       "      <td>6</td>\n",
       "      <td>5</td>\n",
       "      <td>354</td>\n",
       "      <td>NaN</td>\n",
       "    </tr>\n",
       "    <tr>\n",
       "      <th>3</th>\n",
       "      <td>1150</td>\n",
       "      <td>468</td>\n",
       "      <td>522</td>\n",
       "      <td>0</td>\n",
       "      <td>0</td>\n",
       "      <td>66</td>\n",
       "      <td>23</td>\n",
       "      <td>2</td>\n",
       "      <td>18</td>\n",
       "      <td>NaN</td>\n",
       "    </tr>\n",
       "    <tr>\n",
       "      <th>4</th>\n",
       "      <td>213</td>\n",
       "      <td>191</td>\n",
       "      <td>68</td>\n",
       "      <td>0</td>\n",
       "      <td>1</td>\n",
       "      <td>696284</td>\n",
       "      <td>156</td>\n",
       "      <td>0</td>\n",
       "      <td>13</td>\n",
       "      <td>NaN</td>\n",
       "    </tr>\n",
       "  </tbody>\n",
       "</table>\n",
       "</div>"
      ],
      "text/plain": [
       "   favourites  followers  friends  verified  desc  totaltweets  \\\n",
       "0        1639       4535     1308         1     0         3061   \n",
       "1         304        298      780         0     0          629   \n",
       "2       13033    1046703     3018         1     0         3339   \n",
       "3        1150        468      522         0     0           66   \n",
       "4         213        191       68         0     1       696284   \n",
       "\n",
       "   in_reply_to_status_id  is_quote_status  listed_count  bot  \n",
       "0                     59               23           111  NaN  \n",
       "1                      3                6            10  NaN  \n",
       "2                      6                5           354  NaN  \n",
       "3                     23                2            18  NaN  \n",
       "4                    156                0            13  NaN  "
      ]
     },
     "execution_count": 35,
     "metadata": {},
     "output_type": "execute_result"
    }
   ],
   "source": [
    "#Open Test File\n",
    "import json\n",
    "import random\n",
    "import pandas as pd\n",
    "import numpy as np\n",
    "import re\n",
    "from __future__ import division\n",
    "\n",
    "rows = []\n",
    "with open('test/twitter_features_test.json') as data_file:\n",
    "    randomdata = json.load(data_file)\n",
    "    arr = randomdata['k']\n",
    "rows = arr\n",
    "finalrow = []\n",
    "\n",
    "cnt = 0\n",
    "for k,v in rows[0].items():\n",
    "    r = append_rows_to_list(v)\n",
    "    if r is not None:\n",
    "        finalrow.append(r)\n",
    "\n",
    "# create dataframe\n",
    "df2 = pd.DataFrame(finalrow,columns=column_headers)\n",
    "df2.apply(lambda row: (row['name'] or row['screenname']),axis=1)\n",
    "prep(df2)\n",
    "df2.head(5)"
   ]
  },
  {
   "cell_type": "markdown",
   "metadata": {},
   "source": [
    "                                Using Random Forest Classifier"
   ]
  },
  {
   "cell_type": "code",
   "execution_count": 36,
   "metadata": {
    "collapsed": false,
    "scrolled": false
   },
   "outputs": [
    {
     "name": "stdout",
     "output_type": "stream",
     "text": [
      "             precision    recall  f1-score   support\n",
      "\n",
      "        bot       0.91      0.93      0.92       438\n",
      "     nonbot       0.92      0.90      0.91       399\n",
      "\n",
      "avg / total       0.92      0.92      0.92       837\n",
      "\n",
      "Accuracy using Random Forest Classifier is  0.91844204176\n"
     ]
    }
   ],
   "source": [
    "# Using Random Forest Classifier\n",
    "from pandas import DataFrame\n",
    "from sklearn import model_selection\n",
    "from sklearn.ensemble import RandomForestClassifier\n",
    "from sklearn.model_selection import train_test_split\n",
    "import pandas as pd\n",
    "import numpy as np\n",
    "from sklearn.metrics import classification_report\n",
    "from sklearn.metrics import accuracy_score\n",
    "\n",
    "array = df1.values\n",
    "X = array[:,0:len(df1.columns)-1]\n",
    "Y = array[:, len(df1.columns)-1]\n",
    "X = X.astype(int)\n",
    "Y = Y.astype(int)\n",
    "\n",
    "data_train, data_test, target_train, target_test = train_test_split(X, Y, test_size=0.3, random_state=0)\n",
    "num_trees = 200\n",
    "\n",
    "model = RandomForestClassifier(n_estimators=num_trees , n_jobs=2, random_state = 42)\n",
    "\n",
    "from sklearn.model_selection import KFold\n",
    "from sklearn.metrics import classification_report\n",
    "from sklearn import metrics\n",
    "\n",
    "kf = KFold(n_splits=10)\n",
    "kf.get_n_splits(X)\n",
    "scores =[]\n",
    "for train_index, test_index in kf.split(X):\n",
    "    X_train, X_test = X[train_index], X[test_index]\n",
    "    y_train, y_test = Y[train_index], Y[test_index]\n",
    "    model.fit(X_train, y_train)\n",
    "    predicted_rf = model.predict(X_test)\n",
    "    target_names = ['bot', 'nonbot']\n",
    "    fpr, tpr, thresholds = metrics.roc_curve(y_test, predicted_rf, pos_label=1)\n",
    "    score = metrics.auc(fpr, tpr)\n",
    "    scores.append(score)\n",
    "    \n",
    "#Fit the training set\n",
    "model.fit(data_train, target_train)\n",
    "predicted_rf = model.predict(data_test)\n",
    "\n",
    "#Precision, recall and F1\n",
    "target_names = ['bot', 'nonbot']\n",
    "print(classification_report(target_test, predicted_rf, target_names=target_names))\n",
    "\n",
    "print('Accuracy using Random Forest Classifier is ' , np.mean(scores))"
   ]
  },
  {
   "cell_type": "markdown",
   "metadata": {},
   "source": [
    "                               Using Naive Bayes Classifier"
   ]
  },
  {
   "cell_type": "code",
   "execution_count": 37,
   "metadata": {
    "collapsed": false
   },
   "outputs": [
    {
     "name": "stdout",
     "output_type": "stream",
     "text": [
      "             precision    recall  f1-score   support\n",
      "\n",
      "        bot       0.96      0.29      0.45       438\n",
      "     nonbot       0.56      0.98      0.71       399\n",
      "\n",
      "avg / total       0.77      0.62      0.57       837\n",
      "\n",
      "Accuracy using Naive Bayes Classifier is  0.639825503744\n"
     ]
    }
   ],
   "source": [
    "#Using Bernoulli Naive Bayes\n",
    "from sklearn.naive_bayes import GaussianNB\n",
    "data_train, data_test, target_train, target_test = train_test_split(X, Y, test_size=0.3, random_state=0)\n",
    "\n",
    "model = GaussianNB()\n",
    "model.fit(data_train, target_train)\n",
    "predicted_nb = model.predict(data_test)\n",
    "\n",
    "scores =[]\n",
    "for train_index, test_index in kf.split(X):\n",
    "    X_train, X_test = X[train_index], X[test_index]\n",
    "    y_train, y_test = Y[train_index], Y[test_index]\n",
    "    model.fit(X_train, y_train)\n",
    "    predicted_rf = model.predict(X_test)\n",
    "    target_names = ['bot', 'nonbot']\n",
    "    fpr, tpr, thresholds = metrics.roc_curve(y_test, predicted_rf, pos_label=1)\n",
    "    scores.append(metrics.auc(fpr, tpr))\n",
    "    \n",
    "#Precision, recall and F1\n",
    "target_names = ['bot', 'nonbot']\n",
    "print(classification_report(target_test, predicted_nb, target_names=target_names))\n",
    "print('Accuracy using Naive Bayes Classifier is ' , np.mean(scores))"
   ]
  },
  {
   "cell_type": "markdown",
   "metadata": {},
   "source": [
    "                                Ranking Feature Importance"
   ]
  },
  {
   "cell_type": "code",
   "execution_count": 38,
   "metadata": {
    "collapsed": false,
    "scrolled": true
   },
   "outputs": [
    {
     "name": "stdout",
     "output_type": "stream",
     "text": [
      "Feature ranking:\n",
      "1. feature 6 (0.214514)\n",
      "2. feature 3 (0.203706)\n",
      "3. feature 4 (0.111526)\n",
      "4. feature 5 (0.090224)\n",
      "5. feature 2 (0.087003)\n",
      "6. feature 1 (0.078377)\n",
      "7. feature 8 (0.077132)\n",
      "8. feature 0 (0.073909)\n",
      "9. feature 7 (0.063608)\n"
     ]
    },
    {
     "data": {
      "image/png": "[encoded data removed]",
      "text/plain": [
       "<matplotlib.figure.Figure at 0x115dade48>"
      ]
     },
     "metadata": {},
     "output_type": "display_data"
    },
    {
     "name": "stdout",
     "output_type": "stream",
     "text": [
      "['favourites' 'followers' 'friends' 'verified' 'desc' 'totaltweets'\n",
      " 'in_reply_to_status_id' 'is_quote_status' 'listed_count' 'bot']\n"
     ]
    }
   ],
   "source": [
    "import numpy as np\n",
    "import matplotlib.pyplot as plt\n",
    "\n",
    "from sklearn.ensemble import ExtraTreesClassifier\n",
    "\n",
    "# Build a forest and compute the feature importances\n",
    "forest = ExtraTreesClassifier(n_estimators=250,\n",
    "                              random_state=0)\n",
    "X = data_train\n",
    "y = target_train\n",
    "forest.fit(X, y)\n",
    "importances = forest.feature_importances_\n",
    "std = np.std([tree.feature_importances_ for tree in forest.estimators_],\n",
    "             axis=0)\n",
    "indices = np.argsort(importances)[::-1]\n",
    "\n",
    "# Print the feature ranking\n",
    "print(\"Feature ranking:\")\n",
    "\n",
    "for f in range(X.shape[1]):\n",
    "    print(\"%d. feature %d (%f)\" % (f + 1, indices[f], importances[indices[f]]))\n",
    "    \n",
    "plt.figure()\n",
    "plt.title(\"Feature importances\")\n",
    "plt.bar(range(X.shape[1]), importances[indices],\n",
    "       color=\"r\", yerr=std[indices], align=\"center\")\n",
    "plt.xticks(range(X.shape[1]), indices)\n",
    "plt.xlim([-1, X.shape[1]])\n",
    "plt.show()\n",
    "\n",
    "print(df1.columns.values)"
   ]
  },
  {
   "cell_type": "markdown",
   "metadata": {},
   "source": [
    "                                    Classify Test Data"
   ]
  },
  {
   "cell_type": "code",
   "execution_count": 50,
   "metadata": {
    "collapsed": false
   },
   "outputs": [],
   "source": [
    "realarray = df2.values\n",
    "predicted_rf_real = model.predict(realarray[:,0:len(df2.columns)-1])\n",
    "np.savetxt(\"test_output/op.csv\", predicted_rf_real, header='bot' ,delimiter=\",\", comments='')"
   ]
  }
 ],
 "metadata": {
  "kernelspec": {
   "display_name": "Python 3",
   "language": "python",
   "name": "python3"
  },
  "language_info": {
   "codemirror_mode": {
    "name": "ipython",
    "version": 3
   },
   "file_extension": ".py",
   "mimetype": "text/x-python",
   "name": "python",
   "nbconvert_exporter": "python",
   "pygments_lexer": "ipython3",
   "version": "3.6.0"
  }
 },
 "nbformat": 4,
 "nbformat_minor": 2
}
